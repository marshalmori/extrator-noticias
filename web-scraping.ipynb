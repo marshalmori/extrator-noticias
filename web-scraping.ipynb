{
 "cells": [
  {
   "cell_type": "markdown",
   "id": "8cce13b9",
   "metadata": {},
   "source": [
    "### Bibliotecas"
   ]
  },
  {
   "cell_type": "code",
   "execution_count": 2,
   "id": "1cfff918",
   "metadata": {},
   "outputs": [],
   "source": [
    "import pandas as pd"
   ]
  },
  {
   "cell_type": "code",
   "execution_count": 3,
   "id": "2d2cb2e7",
   "metadata": {},
   "outputs": [],
   "source": [
    "from selenium import webdriver\n",
    "from selenium.webdriver.chrome.service import Service\n",
    "from selenium.webdriver.common.by import By"
   ]
  },
  {
   "cell_type": "markdown",
   "id": "ef91b651",
   "metadata": {},
   "source": [
    "### Iniciando uma instância no Google Chrome"
   ]
  },
  {
   "cell_type": "code",
   "execution_count": 14,
   "id": "4bdb6afc",
   "metadata": {},
   "outputs": [],
   "source": [
    "# A classe Service é usada para iniciar uma instância do Chrome WebDriver\n",
    "service = Service()\n",
    "\n",
    "# webdriver.ChromeOptions é usada para definir a preferência para o browser do Chrome\n",
    "options = webdriver.ChromeOptions()\n",
    "\n",
    "# Inicia-se a instância do Chrome WebDriver com as definidas 'options' e 'service'\n",
    "driver = webdriver.Chrome(service=service, options=options)\n",
    "\n",
    "url = \"https://www.gov.br/pf/pt-br/search?origem=form&SearchableText=licitacao\"\n",
    "\n",
    "driver.get(url)"
   ]
  },
  {
   "cell_type": "markdown",
   "id": "c16c9d3c",
   "metadata": {},
   "source": [
    "### Encontrar Elementos do HTML\n",
    "- find_element(By.ID, 'id')\n",
    "- find_element(By.NAME, 'name')\n",
    "- find_element(By.XPATH, 'xpath')\n",
    "- find_element(By.LINK_TEXT, 'link text')\n",
    "- find_element(By.PARTIAL_LINK_TEXT, 'partial link text')\n",
    "- find_element(By.TAG_NAME, 'tag name')\n",
    "- find_element(By.CLASS_NAME, 'class name')\n",
    "- find_element(By.CSS_SELECTOR, 'css selector')"
   ]
  },
  {
   "cell_type": "code",
   "execution_count": 31,
   "id": "2c1ed73d",
   "metadata": {},
   "outputs": [
    {
     "name": "stdout",
     "output_type": "stream",
     "text": [
      "[<selenium.webdriver.remote.webelement.WebElement (session=\"25beacadc9b81df022b9b2d9cb8b3d8b\", element=\"f.A678B909822C47EA2DA281E8EA6C8583.d.87DB4FDA214C8E9C803CCE242BD30409.e.454\")>, <selenium.webdriver.remote.webelement.WebElement (session=\"25beacadc9b81df022b9b2d9cb8b3d8b\", element=\"f.A678B909822C47EA2DA281E8EA6C8583.d.87DB4FDA214C8E9C803CCE242BD30409.e.455\")>, <selenium.webdriver.remote.webelement.WebElement (session=\"25beacadc9b81df022b9b2d9cb8b3d8b\", element=\"f.A678B909822C47EA2DA281E8EA6C8583.d.87DB4FDA214C8E9C803CCE242BD30409.e.456\")>, <selenium.webdriver.remote.webelement.WebElement (session=\"25beacadc9b81df022b9b2d9cb8b3d8b\", element=\"f.A678B909822C47EA2DA281E8EA6C8583.d.87DB4FDA214C8E9C803CCE242BD30409.e.457\")>, <selenium.webdriver.remote.webelement.WebElement (session=\"25beacadc9b81df022b9b2d9cb8b3d8b\", element=\"f.A678B909822C47EA2DA281E8EA6C8583.d.87DB4FDA214C8E9C803CCE242BD30409.e.458\")>, <selenium.webdriver.remote.webelement.WebElement (session=\"25beacadc9b81df022b9b2d9cb8b3d8b\", element=\"f.A678B909822C47EA2DA281E8EA6C8583.d.87DB4FDA214C8E9C803CCE242BD30409.e.459\")>, <selenium.webdriver.remote.webelement.WebElement (session=\"25beacadc9b81df022b9b2d9cb8b3d8b\", element=\"f.A678B909822C47EA2DA281E8EA6C8583.d.87DB4FDA214C8E9C803CCE242BD30409.e.460\")>, <selenium.webdriver.remote.webelement.WebElement (session=\"25beacadc9b81df022b9b2d9cb8b3d8b\", element=\"f.A678B909822C47EA2DA281E8EA6C8583.d.87DB4FDA214C8E9C803CCE242BD30409.e.461\")>, <selenium.webdriver.remote.webelement.WebElement (session=\"25beacadc9b81df022b9b2d9cb8b3d8b\", element=\"f.A678B909822C47EA2DA281E8EA6C8583.d.87DB4FDA214C8E9C803CCE242BD30409.e.462\")>, <selenium.webdriver.remote.webelement.WebElement (session=\"25beacadc9b81df022b9b2d9cb8b3d8b\", element=\"f.A678B909822C47EA2DA281E8EA6C8583.d.87DB4FDA214C8E9C803CCE242BD30409.e.463\")>, <selenium.webdriver.remote.webelement.WebElement (session=\"25beacadc9b81df022b9b2d9cb8b3d8b\", element=\"f.A678B909822C47EA2DA281E8EA6C8583.d.87DB4FDA214C8E9C803CCE242BD30409.e.464\")>, <selenium.webdriver.remote.webelement.WebElement (session=\"25beacadc9b81df022b9b2d9cb8b3d8b\", element=\"f.A678B909822C47EA2DA281E8EA6C8583.d.87DB4FDA214C8E9C803CCE242BD30409.e.465\")>, <selenium.webdriver.remote.webelement.WebElement (session=\"25beacadc9b81df022b9b2d9cb8b3d8b\", element=\"f.A678B909822C47EA2DA281E8EA6C8583.d.87DB4FDA214C8E9C803CCE242BD30409.e.466\")>, <selenium.webdriver.remote.webelement.WebElement (session=\"25beacadc9b81df022b9b2d9cb8b3d8b\", element=\"f.A678B909822C47EA2DA281E8EA6C8583.d.87DB4FDA214C8E9C803CCE242BD30409.e.467\")>, <selenium.webdriver.remote.webelement.WebElement (session=\"25beacadc9b81df022b9b2d9cb8b3d8b\", element=\"f.A678B909822C47EA2DA281E8EA6C8583.d.87DB4FDA214C8E9C803CCE242BD30409.e.468\")>, <selenium.webdriver.remote.webelement.WebElement (session=\"25beacadc9b81df022b9b2d9cb8b3d8b\", element=\"f.A678B909822C47EA2DA281E8EA6C8583.d.87DB4FDA214C8E9C803CCE242BD30409.e.469\")>, <selenium.webdriver.remote.webelement.WebElement (session=\"25beacadc9b81df022b9b2d9cb8b3d8b\", element=\"f.A678B909822C47EA2DA281E8EA6C8583.d.87DB4FDA214C8E9C803CCE242BD30409.e.470\")>, <selenium.webdriver.remote.webelement.WebElement (session=\"25beacadc9b81df022b9b2d9cb8b3d8b\", element=\"f.A678B909822C47EA2DA281E8EA6C8583.d.87DB4FDA214C8E9C803CCE242BD30409.e.471\")>, <selenium.webdriver.remote.webelement.WebElement (session=\"25beacadc9b81df022b9b2d9cb8b3d8b\", element=\"f.A678B909822C47EA2DA281E8EA6C8583.d.87DB4FDA214C8E9C803CCE242BD30409.e.472\")>, <selenium.webdriver.remote.webelement.WebElement (session=\"25beacadc9b81df022b9b2d9cb8b3d8b\", element=\"f.A678B909822C47EA2DA281E8EA6C8583.d.87DB4FDA214C8E9C803CCE242BD30409.e.473\")>, <selenium.webdriver.remote.webelement.WebElement (session=\"25beacadc9b81df022b9b2d9cb8b3d8b\", element=\"f.A678B909822C47EA2DA281E8EA6C8583.d.87DB4FDA214C8E9C803CCE242BD30409.e.474\")>, <selenium.webdriver.remote.webelement.WebElement (session=\"25beacadc9b81df022b9b2d9cb8b3d8b\", element=\"f.A678B909822C47EA2DA281E8EA6C8583.d.87DB4FDA214C8E9C803CCE242BD30409.e.475\")>, <selenium.webdriver.remote.webelement.WebElement (session=\"25beacadc9b81df022b9b2d9cb8b3d8b\", element=\"f.A678B909822C47EA2DA281E8EA6C8583.d.87DB4FDA214C8E9C803CCE242BD30409.e.476\")>, <selenium.webdriver.remote.webelement.WebElement (session=\"25beacadc9b81df022b9b2d9cb8b3d8b\", element=\"f.A678B909822C47EA2DA281E8EA6C8583.d.87DB4FDA214C8E9C803CCE242BD30409.e.477\")>, <selenium.webdriver.remote.webelement.WebElement (session=\"25beacadc9b81df022b9b2d9cb8b3d8b\", element=\"f.A678B909822C47EA2DA281E8EA6C8583.d.87DB4FDA214C8E9C803CCE242BD30409.e.478\")>, <selenium.webdriver.remote.webelement.WebElement (session=\"25beacadc9b81df022b9b2d9cb8b3d8b\", element=\"f.A678B909822C47EA2DA281E8EA6C8583.d.87DB4FDA214C8E9C803CCE242BD30409.e.479\")>, <selenium.webdriver.remote.webelement.WebElement (session=\"25beacadc9b81df022b9b2d9cb8b3d8b\", element=\"f.A678B909822C47EA2DA281E8EA6C8583.d.87DB4FDA214C8E9C803CCE242BD30409.e.480\")>, <selenium.webdriver.remote.webelement.WebElement (session=\"25beacadc9b81df022b9b2d9cb8b3d8b\", element=\"f.A678B909822C47EA2DA281E8EA6C8583.d.87DB4FDA214C8E9C803CCE242BD30409.e.481\")>, <selenium.webdriver.remote.webelement.WebElement (session=\"25beacadc9b81df022b9b2d9cb8b3d8b\", element=\"f.A678B909822C47EA2DA281E8EA6C8583.d.87DB4FDA214C8E9C803CCE242BD30409.e.482\")>, <selenium.webdriver.remote.webelement.WebElement (session=\"25beacadc9b81df022b9b2d9cb8b3d8b\", element=\"f.A678B909822C47EA2DA281E8EA6C8583.d.87DB4FDA214C8E9C803CCE242BD30409.e.483\")>]\n"
     ]
    }
   ],
   "source": [
    "elementos = driver.find_elements(By.CSS_SELECTOR, 'span.titulo a')\n",
    "print(elementos)"
   ]
  },
  {
   "cell_type": "code",
   "execution_count": 33,
   "id": "0c74da9d",
   "metadata": {},
   "outputs": [
    {
     "data": {
      "text/plain": [
       "30"
      ]
     },
     "execution_count": 33,
     "metadata": {},
     "output_type": "execute_result"
    }
   ],
   "source": [
    "len(elementos)"
   ]
  },
  {
   "cell_type": "code",
   "execution_count": 32,
   "id": "6ff7508b",
   "metadata": {},
   "outputs": [
    {
     "name": "stdout",
     "output_type": "stream",
     "text": [
      "Texto da notícia:  PF e CGU deflagram operação de combate a crimes contra à administração pública e de lavagem de capitais em Pernambuco\n",
      "Link:  https://www.gov.br/pf/pt-br/assuntos/noticias/2025/06/pf-e-cgu-deflagram-operacao-de-combate-a-crimes-contra-a-administracao-publica-e-de-lavagem-de-capitais-em-pernambuco\n",
      "##################################\n",
      "Texto da notícia:  PF desarticula esquema criminoso de desvio de verbas da saúde e da educação no interior do Piauí\n",
      "Link:  https://www.gov.br/pf/pt-br/assuntos/noticias/2025/06/pf-desarticula-esquema-criminoso-de-desvio-de-verbas-da-saude-e-da-educacao-no-interior-do-piaui\n",
      "##################################\n",
      "Texto da notícia:  PF e PMSC prendem uruguaio procurado pela Interpol e apreendem droga, veículos e dinheiro em espécie\n",
      "Link:  https://www.gov.br/pf/pt-br/assuntos/noticias/2025/05/pf-e-pmsc-prendem-cidadao-uruguaio-procurado-pela-interpol-e-apreende-droga-veiculos-e-dinheiro-em-especie\n",
      "##################################\n",
      "Texto da notícia:  PF deflagra operação contra fraudes em licitação e desvio de recursos do Fundeb\n",
      "Link:  https://www.gov.br/pf/pt-br/assuntos/noticias/2025/05/pf-deflagra-operacao-contra-fraudes-em-licitacao-e-desvio-de-recursos-do-fundeb\n",
      "##################################\n",
      "Texto da notícia:  PF, CGU e Receita Federal deflagram operação contra fraudes em licitações da Secretaria de Educação do Mato Grosso do Sul\n",
      "Link:  https://www.gov.br/pf/pt-br/assuntos/noticias/2025/05/pf-deflagra-operacao-contra-fraudes-em-licitacoes-da-secretaria-de-educacao-do-mato-grosso-do-sul\n",
      "##################################\n",
      "Texto da notícia:  PF e CGU combatem desvios de verbas da merenda escolar em Miguel Alves/PI\n",
      "Link:  https://www.gov.br/pf/pt-br/assuntos/noticias/2025/05/pf-e-cgu-desarticulam-esquema-criminoso-de-desvio-de-recursos-publicos-destinados-a-aquisicao-de-merenda-escolar-em-miguel-alves-pi\n",
      "##################################\n",
      "Texto da notícia:  PF apura possível aquisição ilegal de lousas interativas em Santa Cruz do Sul/RS\n",
      "Link:  https://www.gov.br/pf/pt-br/assuntos/noticias/2025/05/pf-apura-possivel-aquisicao-ilegal-de-lousas-interativas-em-santa-cruz-do-sul-rs\n",
      "##################################\n",
      "Texto da notícia:  PF, PM/PR e Receita Federal apreendem cerca de 5 mil celulares e 44 mil cigarros eletrônicos em Santa Tereza do Oeste/PR\n",
      "Link:  https://www.gov.br/pf/pt-br/assuntos/noticias/2025/05/pf-pm-pr-e-receita-federal-e-apreendem-cerca-de-5-mil-celulares-e-44-mil-cigarros-eletronicos-em-santa-tereza-do-oeste-pr\n",
      "##################################\n",
      "Texto da notícia:  PF faz duas prisões por fraude licitação\n",
      "Link:  https://www.gov.br/pf/pt-br/assuntos/noticias/2025/05/pf-faz-duas-prisoes-por-fraude-licitacao\n",
      "##################################\n",
      "Texto da notícia:  PF combate fraudes no fornecimento de merenda escolar em Lavrinhas/SP\n",
      "Link:  https://www.gov.br/pf/pt-br/assuntos/noticias/2025/05/pf-combate-fraudes-no-fornecimento-de-merenda-escolar-em-lavrinhas-sp\n",
      "##################################\n",
      "Texto da notícia:  PF deflagra operação em combate a fraudes em processos licitatórios na Prefeitura de Camaçari\n",
      "Link:  https://www.gov.br/pf/pt-br/assuntos/noticias/2025/05/pf-deflagra-operacao-em-combate-a-fraudes-em-processos-licitatorios-na-prefeitura-de-camacari\n",
      "##################################\n",
      "Texto da notícia:  PF combate tráfico internacional de animais em Uruguaiana/RS\n",
      "Link:  https://www.gov.br/pf/pt-br/assuntos/noticias/2025/05/pf-combate-trafico-internacional-de-animais-em-uruguaiana-rs\n",
      "##################################\n",
      "Texto da notícia:  PF prende três pessoas em flagrante por fraude em licitação\n",
      "Link:  https://www.gov.br/pf/pt-br/assuntos/noticias/2025/05/pf-prende-tres-pessoas-em-flagrante-por-fraude-em-licitacao\n",
      "##################################\n",
      "Texto da notícia:  PF, Polícia Civil e Receita Federal deflagram operação para reprimir o comércio de eletrônicos clandestinos\n",
      "Link:  https://www.gov.br/pf/pt-br/assuntos/noticias/2025/04/pf-policia-civil-e-receita-federal-deflagram-operacao-para-reprimir-o-comercio-de-eletronicos-clandestinos\n",
      "##################################\n",
      "Texto da notícia:  PF desmantela esquema de corrupção e lavagem de dinheiro no RJ e MG\n",
      "Link:  https://www.gov.br/pf/pt-br/assuntos/noticias/2025/04/pf-desmantela-esquema-de-corrupcao-e-lavagem-de-dinheiro-no-rj-e-mg\n",
      "##################################\n",
      "Texto da notícia:  PF deflagra operação contra esquema de contrabando de cigarros em MT\n",
      "Link:  https://www.gov.br/pf/pt-br/assuntos/noticias/2025/04/policia-federal-deflagra-operacao-contra-esquema-de-contrabando-de-cigarros-em-mt\n",
      "##################################\n",
      "Texto da notícia:  PF reprime crimes de desvio de recursos públicos em Sorocaba/SP\n",
      "Link:  https://www.gov.br/pf/pt-br/assuntos/noticias/2025/04/pf-reprime-crimes-de-desvio-de-recursos-publicos-em-sorocaba-sp\n",
      "##################################\n",
      "Texto da notícia:  PF realiza operação para apurar desvios de verbas públicas em Roraima\n",
      "Link:  https://www.gov.br/pf/pt-br/assuntos/noticias/2025/04/pf-realiza-operacao-para-apurar-desvios-de-verbas-publicas-na-universidade-estadual-de-roraima\n",
      "##################################\n",
      "Texto da notícia:  PF investiga desvios na compra de livros escolares no Maranhão\n",
      "Link:  https://www.gov.br/pf/pt-br/assuntos/noticias/2025/04/pf-investiga-desvios-na-compra-de-livros-escolares-no-maranhao\n",
      "##################################\n",
      "Texto da notícia:  PF, CGU e MPF deflagram Operação Outside 2\n",
      "Link:  https://www.gov.br/pf/pt-br/assuntos/noticias/2025/04/pf-cgu-e-mpf-deflagram-operacao-outside-2\n",
      "##################################\n",
      "Texto da notícia:  PF e CGU desarticulam organização criminosa responsável por desvios milionários\n",
      "Link:  https://www.gov.br/pf/pt-br/assuntos/noticias/2025/04/pf-e-cgu-desarticulam-organizacao-criminosa-responsavel-por-desvios-milionarios\n",
      "##################################\n",
      "Texto da notícia:  PF deflagra operação contra tráfico de drogas no Sertão de Pernambuco\n",
      "Link:  https://www.gov.br/pf/pt-br/assuntos/noticias/2025/04/pf-deflagra-operacao-contra-trafico-de-drogas-no-sertao-de-pernambuco\n",
      "##################################\n",
      "Texto da notícia:  PF e CGU apuram possíveis fraudes em licitações de combate ao Covid-19 em município sergipano\n",
      "Link:  https://www.gov.br/pf/pt-br/assuntos/noticias/2025/03/pf-apura-possiveis-fraudes-em-licitacoes-de-combate-ao-covid-19-em-municipio-sergipano\n",
      "##################################\n",
      "Texto da notícia:  PF combate esquema de fraude em licitações e desvio de recursos públicos no Amapá\n",
      "Link:  https://www.gov.br/pf/pt-br/assuntos/noticias/2025/03/pf-combate-esquema-de-fraude-em-licitacoes-e-desvio-de-recursos-publicos-no-amapa\n",
      "##################################\n",
      "Texto da notícia:  Polícia Federal combate contrabando de celulares no Paraná.\n",
      "Link:  https://www.gov.br/pf/pt-br/assuntos/noticias/2025/03/pf-combate-contrabando-de-celulares-no-parana\n",
      "##################################\n",
      "Texto da notícia:  PF, com apoio da CGU, combate desvio de recursos públicos no Piauí\n",
      "Link:  https://www.gov.br/pf/pt-br/assuntos/noticias/2025/03/policia-federal-combate-desvio-de-recursos-publicos-no-piaui\n",
      "##################################\n",
      "Texto da notícia:  PF combate o contrabando de cigarros de origem estrangeira no Espírito Santo\n",
      "Link:  https://www.gov.br/pf/pt-br/assuntos/noticias/2025/03/pf-combate-o-contrabando-de-cigarros-de-origem-estrangeira-no-espirito-santo\n",
      "##################################\n",
      "Texto da notícia:  PF e RFB prendem duas pessoas no Aeroporto Internacional de Belo Horizonte por suspeita de receptação\n",
      "Link:  https://www.gov.br/pf/pt-br/assuntos/noticias/2025/03/pf-e-rfb-prendem-duas-pessoas-no-aeroporto-internacional-de-belo-horizonte-mg-por-suspeita-de-receptacao\n",
      "##################################\n",
      "Texto da notícia:  PF desarticula esquema criminoso destinado à aquisição de merenda escolar em Manaus\n",
      "Link:  https://www.gov.br/pf/pt-br/assuntos/noticias/2025/02/pf-desarticula-esquema-criminoso-destinado-a-aquisicao-de-merenda-escolar-em-manaus\n",
      "##################################\n",
      "Texto da notícia:  PF desarticula grupo suspeito de fraudes a licitações e desvio de recursos no Tocantins\n",
      "Link:  https://www.gov.br/pf/pt-br/assuntos/noticias/2025/02/pf-desarticula-grupo-suspeito-de-fraudes-a-licitacoes-e-desvio-de-recursos-no-tocantins\n",
      "##################################\n"
     ]
    }
   ],
   "source": [
    "for elemento in elementos:\n",
    "    print('Texto da notícia: ', elemento.text)\n",
    "    print(\"Link: \", elemento.get_attribute('href'))\n",
    "    print('##################################')"
   ]
  },
  {
   "cell_type": "code",
   "execution_count": null,
   "id": "ed2ae7fa",
   "metadata": {},
   "outputs": [],
   "source": [
    "# //*[@id=\"search-results\"]/div[4]/div[2]/span[2]/ul[2]/li[4]/a[1]"
   ]
  },
  {
   "cell_type": "code",
   "execution_count": 20,
   "id": "3edd3944",
   "metadata": {},
   "outputs": [],
   "source": [
    "from selenium import webdriver\n",
    "from selenium.webdriver.common.by import By\n",
    "from selenium.common.exceptions import NoSuchElementException\n",
    "from selenium.webdriver.chrome.service import Service\n",
    "import pandas as pd\n",
    "import time"
   ]
  },
  {
   "cell_type": "code",
   "execution_count": 21,
   "id": "a72d19ac",
   "metadata": {},
   "outputs": [],
   "source": [
    "\n",
    "def iniciar_driver():\n",
    "    service = Service()\n",
    "    # webdriver.ChromeOptions é usada para definir a preferência para o browser do Chrome\n",
    "    options = webdriver.ChromeOptions()\n",
    "\n",
    "    # Inicia-se a instância do Chrome WebDriver com as definidas 'options' e 'service'\n",
    "    driver = webdriver.Chrome(service=service, options=options)\n",
    "    return driver"
   ]
  },
  {
   "cell_type": "code",
   "execution_count": 23,
   "id": "9d8b6999",
   "metadata": {},
   "outputs": [],
   "source": [
    "\n",
    "termo_busca = 'licitacao'\n",
    "\n",
    "def coletar_todas_paginas():\n",
    "    driver = iniciar_driver()\n",
    "    url = f\"https://www.gov.br/pf/pt-br/search?SearchableText={termo_busca}\"\n",
    "    driver.get(url)\n",
    "    time.sleep(2)\n",
    "\n",
    "    todas_noticias = []\n",
    "    pagina = 1\n",
    "\n",
    "    while True:\n",
    "        print(f\"\\n🔎 Coletando dados da página {pagina}\")\n",
    "\n",
    "        # Pega os títulos\n",
    "        noticias = driver.find_elements(By.CSS_SELECTOR, \"span.titulo a\")\n",
    "        for noticia in noticias:\n",
    "            titulo = noticia.text.strip()\n",
    "            link = noticia.get_attribute(\"href\")\n",
    "            todas_noticias.append({\"Título\": titulo, \"Link\": link})\n",
    "            print(f\"✔ {titulo}\")\n",
    "\n",
    "        # Tenta localizar o botão \"Próximo »\"\n",
    "        try:\n",
    "            proximo = driver.find_element(By.XPATH, \"//a[@class='proximo' and contains(text(), 'Próximo')]\")\n",
    "            time.sleep(1)\n",
    "            driver.execute_script(\"arguments[0].scrollIntoView();\", proximo)\n",
    "            time.sleep(1)\n",
    "\n",
    "            # Força o clique via JavaScript\n",
    "            driver.execute_script(\"arguments[0].click();\", proximo)\n",
    "\n",
    "            pagina += 1\n",
    "            time.sleep(2)\n",
    "        except NoSuchElementException:\n",
    "                print(\"🚫 Fim da paginação.\")\n",
    "                break\n",
    "\n",
    "    driver.quit()\n",
    "    return todas_noticias\n",
    "\n"
   ]
  },
  {
   "cell_type": "code",
   "execution_count": null,
   "id": "bc49ca35",
   "metadata": {},
   "outputs": [],
   "source": [
    "dados = coletar_todas_paginas()"
   ]
  },
  {
   "cell_type": "code",
   "execution_count": null,
   "id": "ac9e3a4a",
   "metadata": {},
   "outputs": [
    {
     "name": "stdout",
     "output_type": "stream",
     "text": [
      "\n",
      "✅ Total de notícias coletadas: 830\n"
     ]
    }
   ],
   "source": [
    "\n",
    "pd.DataFrame(dados).to_csv(\"noticias_licitacao_pf.csv\", index=False, encoding=\"utf-8\")\n",
    "print(f\"\\n✅ Total de notícias coletadas: {len(dados)}\")"
   ]
  },
  {
   "cell_type": "markdown",
   "id": "bb476638",
   "metadata": {},
   "source": [
    "### Extração dos textos dentro da notícia"
   ]
  },
  {
   "cell_type": "code",
   "execution_count": 24,
   "id": "270a10b3",
   "metadata": {},
   "outputs": [
    {
     "name": "stdout",
     "output_type": "stream",
     "text": [
      "0      https://www.gov.br/pf/pt-br/assuntos/noticias/...\n",
      "1      https://www.gov.br/pf/pt-br/assuntos/noticias/...\n",
      "2      https://www.gov.br/pf/pt-br/assuntos/noticias/...\n",
      "3      https://www.gov.br/pf/pt-br/assuntos/noticias/...\n",
      "4      https://www.gov.br/pf/pt-br/assuntos/noticias/...\n",
      "                             ...                        \n",
      "825    https://www.gov.br/pf/pt-br/assuntos/noticias/...\n",
      "826    https://www.gov.br/pf/pt-br/assuntos/noticias/...\n",
      "827    https://www.gov.br/pf/pt-br/assuntos/noticias/...\n",
      "828    https://www.gov.br/pf/pt-br/assuntos/noticias/...\n",
      "829    https://www.gov.br/pf/pt-br/assuntos/noticias/...\n",
      "Name: Link, Length: 830, dtype: object\n"
     ]
    }
   ],
   "source": [
    "caminho_arquivo = 'noticias_licitacao_pf.csv'\n",
    "\n",
    "dados_arq = pd.read_csv(caminho_arquivo, )\n",
    "\n",
    "print(dados_arq['Link'])\n"
   ]
  },
  {
   "cell_type": "code",
   "execution_count": null,
   "id": "3b294192",
   "metadata": {},
   "outputs": [],
   "source": [
    "def extrair_descricao_noticia():\n",
    "    driver = iniciar_driver()\n",
    "    partes_noticias = []\n",
    "\n",
    "    #for i in range(0 , len(dados_arq['Link'])):\n",
    "    for i in range(0 , 3):\n",
    "        url = dados_arq['Link'][i]\n",
    "        driver.get(url)\n",
    "        time.sleep(0.5)\n",
    "        descricao = driver.find_element(By.CLASS_NAME, \"documentDescription\").text.strip()\n",
    "        partes_noticias.append({\"Descrição\": descricao, 'Link': url})\n",
    "\n",
    "    driver.quit()\n",
    "    return partes_noticias"
   ]
  },
  {
   "cell_type": "code",
   "execution_count": null,
   "id": "17584912",
   "metadata": {},
   "outputs": [
    {
     "name": "stdout",
     "output_type": "stream",
     "text": [
      "[{'Descrição': 'Operação objetiva reprimir a atuação de uma organização criminosa especializada na prática de fraudes em licitações públicas promovidas por diversos municípios do Estado e lavagem de dinheiro', 'Link': 'https://www.gov.br/pf/pt-br/assuntos/noticias/2025/06/pf-e-cgu-deflagram-operacao-de-combate-a-crimes-contra-a-administracao-publica-e-de-lavagem-de-capitais-em-pernambuco'}, {'Descrição': 'Três mandados de busca e apreensão são cumpridos por suspeitas de desvio de recursos públicos, provenientes da saúde e da educação, em Francinópolis/PI', 'Link': 'https://www.gov.br/pf/pt-br/assuntos/noticias/2025/06/pf-desarticula-esquema-criminoso-de-desvio-de-verbas-da-saude-e-da-educacao-no-interior-do-piaui'}, {'Descrição': 'O foragido possuía mandado de prisão preventiva expedido pela Justiça da Argentina em abril deste ano por crimes cometidos no final de 2024', 'Link': 'https://www.gov.br/pf/pt-br/assuntos/noticias/2025/05/pf-e-pmsc-prendem-cidadao-uruguaio-procurado-pela-interpol-e-apreende-droga-veiculos-e-dinheiro-em-especie'}]\n"
     ]
    }
   ],
   "source": [
    "texto = extrair_descricao_noticia()\n",
    "print(texto)"
   ]
  },
  {
   "cell_type": "code",
   "execution_count": 41,
   "id": "5918480b",
   "metadata": {},
   "outputs": [],
   "source": [
    "def extrair_texto_principal_noticia():\n",
    "    driver = iniciar_driver()\n",
    "    texto_principal = []\n",
    "\n",
    "    #for i in range(0 , len(dados_arq['Link'])):\n",
    "    for i in range(0 , 1):\n",
    "        url = dados_arq['Link'][i]\n",
    "        driver.get(url)\n",
    "        time.sleep(0.5)\n",
    "        descricao = driver.find_element(By.ID, \"content-core\").text.strip()\n",
    "        data_publicacao = driver.find_element(By.CLASS_NAME, \"value\").text.strip()\n",
    "        texto_principal.append({\"Data publicação:\": data_publicacao, \"Texto Principal\": descricao})\n",
    "\n",
    "    driver.quit()\n",
    "    return texto_principal"
   ]
  },
  {
   "cell_type": "code",
   "execution_count": 42,
   "id": "9962b5b8",
   "metadata": {},
   "outputs": [
    {
     "name": "stdout",
     "output_type": "stream",
     "text": [
      "[{'Data publicação:': '05/06/2025 09h22', 'Texto Principal': 'Recife/PE. A Polícia Federal em Pernambuco, com apoio da Controladoria-Geral da União - CGU, deflagrou, na manhã de hoje (5/6), a Operação Firenze, com a finalidade de reprimir a atuação de uma organização criminosa especializada na prática de fraudes a licitações públicas promovidas por diversos municípios do Estado e lavagem de dinheiro.\\nAs investigações, iniciadas em 2023, identificaram um suposto esquema criminoso de fraudes licitatórias consistente na frustração do caráter competitivo dos certames.\\nApurou-se ainda que as empresas do grupo investigado mantêm contratos de terceirização de mão de obra com diversos municípios de Pernambuco, e com o governo estadual, as quais, somente entre os anos de 2021 e 2024, geraram receitas superiores à R$ 800 milhões para os envolvidos no esquema.\\nPoliciais Federais e auditores da CGU deram cumprimento a 19 mandados de busca e apreensão nos municípios de Jaboatão dos Guararapes/PE, Timbaúba/PE e São Paulo/SP, além de outras medidas judiciais.\\nOs crimes investigados são organização criminosa, lavagem de dinheiro e fraude à licitação, cujas penas máximas, somadas, podem ultrapassar 30 anos de reclusão.\\nComunicação Social – Polícia Federal em Recife/PE\\nFone: (81) 2137-4076\\nE-mail: cs.srpe@pf.gov.br'}]\n"
     ]
    }
   ],
   "source": [
    "resultado = extrair_texto_principal_noticia()\n",
    "print(resultado)"
   ]
  }
 ],
 "metadata": {
  "kernelspec": {
   "display_name": "venv",
   "language": "python",
   "name": "python3"
  },
  "language_info": {
   "codemirror_mode": {
    "name": "ipython",
    "version": 3
   },
   "file_extension": ".py",
   "mimetype": "text/x-python",
   "name": "python",
   "nbconvert_exporter": "python",
   "pygments_lexer": "ipython3",
   "version": "3.12.7"
  }
 },
 "nbformat": 4,
 "nbformat_minor": 5
}
